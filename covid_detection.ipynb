{
  "cells": [
    {
      "cell_type": "code",
      "execution_count": null,
      "metadata": {
        "colab": {
          "base_uri": "https://localhost:8080/"
        },
        "id": "VyGOB-jUUqD-",
        "outputId": "0729c6e7-62b8-42a9-ceb0-832118ad37aa"
      },
      "outputs": [
        {
          "output_type": "stream",
          "name": "stdout",
          "text": [
            "Mounted at /content/drive/\n"
          ]
        }
      ],
      "source": [
        "from google.colab import drive\n",
        "drive.mount('/content/drive/')"
      ]
    },
    {
      "cell_type": "code",
      "execution_count": null,
      "metadata": {
        "id": "iwkku0ffGrH0"
      },
      "outputs": [],
      "source": [
        "import numpy as np\n",
        "import matplotlib.pyplot as plt\n",
        "import tensorflow as tf\n",
        "from tensorflow.keras.layers import *\n",
        "from tensorflow.keras.preprocessing import image\n",
        "from tensorflow.keras.models import *\n",
        "from tensorflow.keras import layers, optimizers\n",
        "from tensorflow.keras.applications.vgg16 import preprocess_input\n"
      ]
    },
    {
      "cell_type": "code",
      "execution_count": null,
      "metadata": {
        "id": "kzBpxVZDGjUx"
      },
      "outputs": [],
      "source": [
        "train_path = '/content/drive/My Drive/Colab Notebooks/Covid/Train'\n",
        "test_path = '/content/drive/My Drive/Colab Notebooks/Covid/Test'"
      ]
    },
    {
      "cell_type": "code",
      "execution_count": null,
      "metadata": {
        "id": "y4x3TPfZUsPS"
      },
      "outputs": [],
      "source": [
        "model = Sequential()\n",
        "model.add(Conv2D(32,kernel_size=(3,3),activation='relu', input_shape=(224,224,3)))\n",
        "model.add(MaxPooling2D())\n",
        "\n",
        "model.add(Conv2D(64,(3,3),activation='relu'))\n",
        "model.add(MaxPooling2D())\n",
        "\n",
        "model.add(Conv2D(128,(3,3),activation='relu'))\n",
        "model.add(MaxPooling2D())\n",
        "\n",
        "model.add(Flatten())\n",
        "model.add(Dense(128,activation='relu'))\n",
        "model.add(Dropout(0.50))\n",
        "model.add(Dense(3,activation='softmax'))"
      ]
    },
    {
      "cell_type": "code",
      "execution_count": null,
      "metadata": {
        "id": "fPSDGmHINjJT"
      },
      "outputs": [],
      "source": [
        "model.compile(loss='categorical_crossentropy',optimizer='adam',metrics=['accuracy'])"
      ]
    },
    {
      "cell_type": "code",
      "execution_count": null,
      "metadata": {
        "colab": {
          "base_uri": "https://localhost:8080/"
        },
        "id": "tKYprg_bGz37",
        "outputId": "2d7e3d1e-e9df-4723-8a08-904c1ea4e79f"
      },
      "outputs": [
        {
          "output_type": "stream",
          "name": "stdout",
          "text": [
            "Model: \"sequential\"\n",
            "_________________________________________________________________\n",
            " Layer (type)                Output Shape              Param #   \n",
            "=================================================================\n",
            " conv2d (Conv2D)             (None, 222, 222, 32)      896       \n",
            "                                                                 \n",
            " max_pooling2d (MaxPooling2  (None, 111, 111, 32)      0         \n",
            " D)                                                              \n",
            "                                                                 \n",
            " conv2d_1 (Conv2D)           (None, 109, 109, 64)      18496     \n",
            "                                                                 \n",
            " max_pooling2d_1 (MaxPoolin  (None, 54, 54, 64)        0         \n",
            " g2D)                                                            \n",
            "                                                                 \n",
            " conv2d_2 (Conv2D)           (None, 52, 52, 128)       73856     \n",
            "                                                                 \n",
            " max_pooling2d_2 (MaxPoolin  (None, 26, 26, 128)       0         \n",
            " g2D)                                                            \n",
            "                                                                 \n",
            " flatten (Flatten)           (None, 86528)             0         \n",
            "                                                                 \n",
            " dense (Dense)               (None, 128)               11075712  \n",
            "                                                                 \n",
            " dropout (Dropout)           (None, 128)               0         \n",
            "                                                                 \n",
            " dense_1 (Dense)             (None, 3)                 387       \n",
            "                                                                 \n",
            "=================================================================\n",
            "Total params: 11169347 (42.61 MB)\n",
            "Trainable params: 11169347 (42.61 MB)\n",
            "Non-trainable params: 0 (0.00 Byte)\n",
            "_________________________________________________________________\n"
          ]
        }
      ],
      "source": [
        "model.summary()"
      ]
    },
    {
      "cell_type": "code",
      "execution_count": null,
      "metadata": {
        "id": "CDRxEhYxG_SJ"
      },
      "outputs": [],
      "source": [
        "from tensorflow.keras.preprocessing.image import ImageDataGenerator\n",
        "\n",
        "train_data = ImageDataGenerator(rescale = 1./255, shear_range = 0.2, zoom_range = 0.2, horizontal_flip = True)\n",
        "test_data = ImageDataGenerator(rescale = 1./255)"
      ]
    },
    {
      "cell_type": "code",
      "execution_count": null,
      "metadata": {
        "colab": {
          "base_uri": "https://localhost:8080/"
        },
        "id": "hKeI9tDBHKPT",
        "outputId": "63ddd45e-dff1-4b13-8c6b-4b0b27f0fc6a"
      },
      "outputs": [
        {
          "output_type": "stream",
          "name": "stdout",
          "text": [
            "Found 251 images belonging to 3 classes.\n",
            "Found 66 images belonging to 3 classes.\n"
          ]
        }
      ],
      "source": [
        "train_set = train_data.flow_from_directory(train_path, target_size = (224,224),batch_size = 16,class_mode = 'categorical')\n",
        "test_set = test_data.flow_from_directory(test_path, target_size = (224,224),batch_size = 16,class_mode = 'categorical')"
      ]
    },
    {
      "cell_type": "code",
      "execution_count": null,
      "metadata": {
        "colab": {
          "base_uri": "https://localhost:8080/"
        },
        "id": "0k7Ct0FxHMja",
        "outputId": "ece4fd1f-c3f1-48d7-a2e0-3005f4191470"
      },
      "outputs": [
        {
          "output_type": "execute_result",
          "data": {
            "text/plain": [
              "{'Covid': 0, 'Normal': 1, 'Viral Pneumonia': 2}"
            ]
          },
          "metadata": {},
          "execution_count": 12
        }
      ],
      "source": [
        "train_set.class_indices"
      ]
    },
    {
      "cell_type": "code",
      "execution_count": null,
      "metadata": {
        "colab": {
          "base_uri": "https://localhost:8080/"
        },
        "id": "tiGhnDXSHVom",
        "outputId": "140c121f-34d0-4b29-aac0-b0e73c791e92"
      },
      "outputs": [
        {
          "output_type": "stream",
          "name": "stdout",
          "text": [
            "Epoch 1/8\n",
            "16/16 [==============================] - 71s 4s/step - loss: 1.4627 - accuracy: 0.4263 - val_loss: 0.9103 - val_accuracy: 0.6515\n",
            "Epoch 2/8\n",
            "16/16 [==============================] - 10s 637ms/step - loss: 0.7423 - accuracy: 0.6813 - val_loss: 0.4282 - val_accuracy: 0.7424\n",
            "Epoch 3/8\n",
            "16/16 [==============================] - 8s 529ms/step - loss: 0.5848 - accuracy: 0.7888 - val_loss: 0.5415 - val_accuracy: 0.7424\n",
            "Epoch 4/8\n",
            "16/16 [==============================] - 10s 649ms/step - loss: 0.4994 - accuracy: 0.7888 - val_loss: 0.4258 - val_accuracy: 0.7424\n",
            "Epoch 5/8\n",
            "16/16 [==============================] - 10s 646ms/step - loss: 0.4181 - accuracy: 0.8406 - val_loss: 0.3616 - val_accuracy: 0.7576\n",
            "Epoch 6/8\n",
            "16/16 [==============================] - 9s 539ms/step - loss: 0.4691 - accuracy: 0.7849 - val_loss: 0.5093 - val_accuracy: 0.7424\n",
            "Epoch 7/8\n",
            "16/16 [==============================] - 10s 649ms/step - loss: 0.4015 - accuracy: 0.8247 - val_loss: 0.3000 - val_accuracy: 0.9091\n",
            "Epoch 8/8\n",
            "16/16 [==============================] - 9s 581ms/step - loss: 0.3938 - accuracy: 0.8247 - val_loss: 0.3773 - val_accuracy: 0.8485\n"
          ]
        }
      ],
      "source": [
        "covid = model.fit(train_set, validation_data=test_set, epochs=8, steps_per_epoch=len(train_set), validation_steps=len(test_set))"
      ]
    },
    {
      "cell_type": "code",
      "execution_count": null,
      "metadata": {
        "colab": {
          "base_uri": "https://localhost:8080/",
          "height": 860
        },
        "id": "PGAo_jCNHXC_",
        "outputId": "4f42c541-9588-4c83-df48-38e5cd5cb487"
      },
      "outputs": [
        {
          "output_type": "display_data",
          "data": {
            "text/plain": [
              "<Figure size 640x480 with 1 Axes>"
            ],
            "image/png": "[encoded data removed]"
          },
          "metadata": {}
        },
        {
          "output_type": "display_data",
          "data": {
            "text/plain": [
              "<Figure size 640x480 with 1 Axes>"
            ],
            "image/png": "[encoded data removed]"
          },
          "metadata": {}
        },
        {
          "output_type": "display_data",
          "data": {
            "text/plain": [
              "<Figure size 640x480 with 0 Axes>"
            ]
          },
          "metadata": {}
        }
      ],
      "source": [
        "plt.plot(covid.history['loss'], label='train loss')\n",
        "plt.plot(covid.history['val_loss'], label='val loss')\n",
        "plt.legend()\n",
        "plt.show()\n",
        "plt.savefig('LossVal_loss')\n",
        "\n",
        "# plot the accuracy\n",
        "plt.plot(covid.history['accuracy'], label='train acc')\n",
        "plt.plot(covid.history['val_accuracy'], label='val acc')\n",
        "plt.legend()\n",
        "plt.show()\n",
        "plt.savefig('AccVal_acc')"
      ]
    },
    {
      "cell_type": "code",
      "execution_count": null,
      "metadata": {
        "colab": {
          "base_uri": "https://localhost:8080/"
        },
        "id": "W20FPvUtGGko",
        "outputId": "631304e1-9173-4cd6-fb4b-102f4148ccb2"
      },
      "outputs": [
        {
          "output_type": "stream",
          "name": "stdout",
          "text": [
            "Requirement already satisfied: pyyaml in /usr/local/lib/python3.10/dist-packages (6.0.1)\n",
            "Requirement already satisfied: h5py in /usr/local/lib/python3.10/dist-packages (3.9.0)\n",
            "Requirement already satisfied: numpy>=1.17.3 in /usr/local/lib/python3.10/dist-packages (from h5py) (1.23.5)\n"
          ]
        }
      ],
      "source": [
        "!pip install pyyaml h5py"
      ]
    },
    {
      "cell_type": "code",
      "execution_count": null,
      "metadata": {
        "colab": {
          "base_uri": "https://localhost:8080/"
        },
        "id": "_D1ux4FZHqpn",
        "outputId": "756a62ca-7d70-4750-cfef-e2495eba9d9f"
      },
      "outputs": [
        {
          "output_type": "stream",
          "name": "stderr",
          "text": [
            "/usr/local/lib/python3.10/dist-packages/keras/src/engine/training.py:3079: UserWarning: You are saving your model as an HDF5 file via `model.save()`. This file format is considered legacy. We recommend using instead the native Keras format, e.g. `model.save('my_model.keras')`.\n",
            "  saving_api.save_model(\n"
          ]
        }
      ],
      "source": [
        "model.save('covid.h5')"
      ]
    },
    {
      "cell_type": "code",
      "execution_count": null,
      "metadata": {
        "id": "cZixW6higdJm"
      },
      "outputs": [],
      "source": [
        "covid = load_model('covid.h5')"
      ]
    },
    {
      "cell_type": "code",
      "execution_count": null,
      "metadata": {
        "id": "cBBupDNxgfn7"
      },
      "outputs": [],
      "source": [
        "def model_predict(img_path, model):\n",
        "    img = image.load_img(img_path, target_size=(224, 224))\n",
        "    x = image.img_to_array(img)\n",
        "    x = np.expand_dims(x, axis=0)\n",
        "    x = preprocess_input(x)\n",
        "\n",
        "    preds = model.predict(x)\n",
        "\n",
        "    # Get the index of the maximum value in the prediction array\n",
        "    predicted_class = np.argmax(preds, axis=1)[0]\n",
        "\n",
        "    if predicted_class == 0:\n",
        "        print(\"Class 0: Positive\")\n",
        "    elif predicted_class == 1:\n",
        "        print(\"Class 1: Negative\")\n",
        "    elif predicted_class == 2:\n",
        "        print(\"Class 2: Viral Pneumonia\")\n",
        "    else:\n",
        "        print(\"Unknown class\")"
      ]
    },
    {
      "cell_type": "code",
      "execution_count": null,
      "metadata": {
        "id": "ZJ9DXbBfiAA6",
        "colab": {
          "base_uri": "https://localhost:8080/"
        },
        "outputId": "2ba987da-6664-4b93-8c1f-1825d975b907"
      },
      "outputs": [
        {
          "output_type": "stream",
          "name": "stdout",
          "text": [
            "1/1 [==============================] - 0s 113ms/step\n",
            "Class 2: Viral Pneumonia\n"
          ]
        }
      ],
      "source": [
        "img_path='/content/drive/MyDrive/covid19/Pneumonia-Viral (1024).jpg'\n",
        "model=load_model('covid.h5')\n",
        "model_predict(img_path,model)"
      ]
    }
  ],
  "metadata": {
    "accelerator": "GPU",
    "colab": {
      "provenance": [],
      "gpuType": "T4"
    },
    "kernelspec": {
      "display_name": "Python 3",
      "name": "python3"
    },
    "language_info": {
      "name": "python"
    }
  },
  "nbformat": 4,
  "nbformat_minor": 0
}